{
 "cells": [
  {
   "cell_type": "markdown",
   "metadata": {
    "toc": true
   },
   "source": [
    "<h1>Table of Contents<span class=\"tocSkip\"></span></h1>\n",
    "<div class=\"toc\"><ul class=\"toc-item\"><li><span><a href=\"#8-July-2019\" data-toc-modified-id=\"8-July-2019-1\"><span class=\"toc-item-num\">1&nbsp;&nbsp;</span>8-July-2019</a></span><ul class=\"toc-item\"><li><span><a href=\"#Examples\" data-toc-modified-id=\"Examples-1.1\"><span class=\"toc-item-num\">1.1&nbsp;&nbsp;</span>Examples</a></span></li><li><span><a href=\"#Singular-value-decomposition\" data-toc-modified-id=\"Singular-value-decomposition-1.2\"><span class=\"toc-item-num\">1.2&nbsp;&nbsp;</span>Singular value decomposition</a></span></li><li><span><a href=\"#Reduced-SVD\" data-toc-modified-id=\"Reduced-SVD-1.3\"><span class=\"toc-item-num\">1.3&nbsp;&nbsp;</span>Reduced SVD</a></span></li><li><span><a href=\"#Eigendecomposition-and-SVD\" data-toc-modified-id=\"Eigendecomposition-and-SVD-1.4\"><span class=\"toc-item-num\">1.4&nbsp;&nbsp;</span>Eigendecomposition and SVD</a></span></li><li><span><a href=\"#Dynamic-Mode-Decomposition\" data-toc-modified-id=\"Dynamic-Mode-Decomposition-1.5\"><span class=\"toc-item-num\">1.5&nbsp;&nbsp;</span>Dynamic Mode Decomposition</a></span></li><li><span><a href=\"#Application-of-DMD-to-the-time-dependent-double-gyre\" data-toc-modified-id=\"Application-of-DMD-to-the-time-dependent-double-gyre-1.6\"><span class=\"toc-item-num\">1.6&nbsp;&nbsp;</span>Application of DMD to the time dependent double-gyre</a></span></li></ul></li></ul></div>"
   ]
  },
  {
   "cell_type": "markdown",
   "metadata": {},
   "source": [
    "# 8-July-2019"
   ]
  },
  {
   "cell_type": "markdown",
   "metadata": {},
   "source": [
    "## Examples\n",
    "\n",
    "__Diagonalization__ \n",
    "\n",
    "\\begin{equation}\n",
    "A = \\begin{pmatrix}\n",
    "a & b \\\\\n",
    "c & d\n",
    "\\end{pmatrix}\n",
    "\\end{equation}\n",
    "\n",
    "\n",
    "1. Condition $A = A^T$\n",
    "\n",
    "2. eigenvalues are real\n",
    "\n",
    "3. eigenvectors are orthogonal\n",
    "\n",
    "4. condition for $A$ to be positive definite symmetric\n",
    "    a. Diagonal elements are positive\n",
    "    \n",
    "    b. eigenvalues are positive\n",
    "\n",
    "5. $A = (1, 2)$\n",
    "    a. Compute $A A^T$, $A^T A$\n",
    "    b. Compute eigenvalues of each\n",
    "\n",
    "\n",
    "\n",
    "## Singular value decomposition\n",
    "\n",
    "\\begin{equation}\n",
    "\\underbrace{M}_{m \\times n} = \\underbrace{U_t}_{m \\times m} \\underbrace{\\Sigma}_{m \\times n} \\underbrace{V^T}_{n \\times n}\n",
    "\\end{equation}\n",
    "\n",
    "\n",
    "Using \n",
    "\\begin{equation}\n",
    "M = \\begin{pmatrix}\n",
    "1 & 0 & 1 & 0\\\\\n",
    "0 & 1 & 0 & 1\n",
    "\\end{pmatrix}\n",
    "\\end{equation}\n",
    "\n",
    "1. Compute the pseudoinverse of $M, M^+$\n",
    "\n",
    "2. Show $\\hat{x} = M^+ b$ minimizes $||M x - b||$\n",
    "\n",
    "3. Discuss the relationship between singular values and rank\n"
   ]
  },
  {
   "cell_type": "markdown",
   "metadata": {},
   "source": [
    "\n",
    "## Reduced SVD\n",
    "\n",
    "\\begin{equation}\n",
    "M V_r = U_r \\Sigma_r\n",
    "\\end{equation}\n",
    "\n",
    "``remove all parts that produce zeros``\n",
    "\n",
    "__missing equation__\n",
    "\n",
    "\n",
    "where $p$ is the number of non-zero singular values.\n",
    "\n",
    "Q. In what sense does the reduced SVD approximate the full SVD?\n",
    "\n",
    "\n"
   ]
  },
  {
   "cell_type": "markdown",
   "metadata": {},
   "source": [
    "\n",
    "## Eigendecomposition and SVD\n",
    "\n",
    "ED\n",
    "\\begin{align}\n",
    "\\underbrace{M}_{n \\times n} \\underbrace{P}_{n \\times n}  = P \\Lambda  \\; M = P \\Lambda P^{-1}\n",
    "\\end{align}\n",
    "\n",
    "SVD\n",
    "\\begin{align}\n",
    "\\underbrace{M}_{m \\times n} \\underbrace{V}_{n \\times n}  = \\underbrace{U}_{m \\times m} \\underbrace{\\Sigma}_{m \\times n} \\; M = U \\Sigma V^T\n",
    "\\end{align}\n",
    "\n",
    "__Example__\n",
    "\n",
    "Compute SVD and ED for the following matrices\n",
    "\n",
    "\\begin{equation}\n",
    "\\begin{pmatrix}\n",
    "2 & 1\\\\\n",
    "1 & 2\n",
    "\\end{pmatrix}\n",
    "\\end{equation}\n",
    "\n",
    "\\begin{equation}\n",
    "\\begin{pmatrix}\n",
    "1 & 1\\\\\n",
    "1 & 1\n",
    "\\end{pmatrix}\n",
    "\\end{equation}"
   ]
  },
  {
   "cell_type": "code",
   "execution_count": 5,
   "metadata": {},
   "outputs": [
    {
     "name": "stdout",
     "output_type": "stream",
     "text": [
      "[3. 1.] [[ 0.70710678 -0.70710678]\n",
      " [ 0.70710678  0.70710678]]\n",
      "[[-0.70710678 -0.70710678]\n",
      " [-0.70710678  0.70710678]] [3. 1.] [[-0.70710678 -0.70710678]\n",
      " [-0.70710678  0.70710678]]\n",
      "[2. 0.] [[ 0.70710678 -0.70710678]\n",
      " [ 0.70710678  0.70710678]]\n",
      "[[-0.70710678 -0.70710678]\n",
      " [-0.70710678  0.70710678]] [2.00000000e+00 3.35470445e-17] [[-0.70710678 -0.70710678]\n",
      " [ 0.70710678 -0.70710678]]\n"
     ]
    }
   ],
   "source": [
    "\n",
    "from numpy.linalg import eig, svd\n",
    "\n",
    "m1 = [[2,1],[1,2]]\n",
    "\n",
    "[D, W] = eig(m1)\n",
    "print(D,W)\n",
    "\n",
    "[U,Sigma,V] = svd(m1)\n",
    "print(U,Sigma,V)\n",
    "\n",
    "\n",
    "m2 = [[1,1],[1,1]]\n",
    "\n",
    "[D, W] = eig(m2)\n",
    "print(D,W)\n",
    "\n",
    "[U,Sigma,V] = svd(m2)\n",
    "print(U,Sigma,V)\n"
   ]
  },
  {
   "cell_type": "markdown",
   "metadata": {},
   "source": [
    "\n",
    "## Dynamic Mode Decomposition\n",
    "\n",
    "More details of the set-up\n",
    "\n",
    "1. $m$ snapshots of data at $m-1$ intervals of time\n",
    "\n",
    "$$\\Delta t, 2 \\Delta t, 3 \\Delta t, \\ldots, (m-1)\\Delta t$$ \n",
    "\n",
    "or \n",
    "\n",
    "$$k \\Delta t, k = 1, \\ldots, (m-1)$$\n",
    "\n",
    "Data is represented as $n \\times 1$ column vector, $x(t)$, \n",
    "\n",
    "$$x_k = x(k \\Delta t)$$\n",
    "\n",
    "\\begin{equation}\n",
    "\\underbrace{X}_{n \\times (m-1)} = \\begin{pmatrix}\n",
    "\\vert & \\ldots & \\vert \\\\\n",
    "x_1 & \\ldots & x_{m-1} \\\\\n",
    "\\vert & \\ldots & \\vert\n",
    "\\end{pmatrix}\n",
    "\\end{equation}\n",
    "\n",
    "\\begin{equation}\n",
    "\\underbrace{X^\\prime}_{n \\times (m-1)} \\approx \\begin{pmatrix}\n",
    "\\vert & \\ldots & \\vert \\\\\n",
    "x_2 & \\ldots & x_m \\\\\n",
    "\\vert & \\ldots & \\vert\n",
    "\\end{pmatrix}\n",
    "\\end{equation}\n",
    "\n",
    "Crucial step \n",
    "\n",
    "Each matrix is $n \\times (m-1)$, generally $n >> m$.\n",
    "\n",
    "such that $$X^\\prime = A X$$\n",
    "\n",
    "where $\\underbrace{A}_{n \\times n}$ is the evolution operator.\n"
   ]
  },
  {
   "cell_type": "markdown",
   "metadata": {},
   "source": [
    "## Application of DMD to the time dependent double-gyre \n",
    "\n",
    "\n",
    "Q. How does the DMD respect the periodicity?\n",
    "\n",
    "\n",
    "Start with time independent case\n",
    "\n",
    "1. Given the trajectories at the stagnation point and separatrices, what information does DMD give us?\n",
    "\n",
    "Start with time-dependent case\n",
    "\n",
    "2. How can the separatrices be extracted using DMD?\n",
    "\n",
    "\n",
    "__Exercise__\n",
    "\n",
    "Double-gyre streamfunction: time-independent and time-dependent\n",
    "\n",
    "\n",
    "\n"
   ]
  },
  {
   "cell_type": "code",
   "execution_count": null,
   "metadata": {},
   "outputs": [],
   "source": []
  },
  {
   "cell_type": "code",
   "execution_count": null,
   "metadata": {},
   "outputs": [],
   "source": []
  },
  {
   "cell_type": "code",
   "execution_count": null,
   "metadata": {},
   "outputs": [],
   "source": []
  },
  {
   "cell_type": "code",
   "execution_count": null,
   "metadata": {},
   "outputs": [],
   "source": []
  },
  {
   "cell_type": "code",
   "execution_count": null,
   "metadata": {},
   "outputs": [],
   "source": []
  },
  {
   "cell_type": "code",
   "execution_count": null,
   "metadata": {},
   "outputs": [],
   "source": []
  },
  {
   "cell_type": "code",
   "execution_count": null,
   "metadata": {},
   "outputs": [],
   "source": []
  }
 ],
 "metadata": {
  "kernelspec": {
   "display_name": "Python 3",
   "language": "python",
   "name": "python3"
  },
  "language_info": {
   "codemirror_mode": {
    "name": "ipython",
    "version": 3
   },
   "file_extension": ".py",
   "mimetype": "text/x-python",
   "name": "python",
   "nbconvert_exporter": "python",
   "pygments_lexer": "ipython3",
   "version": "3.6.8"
  },
  "latex_envs": {
   "LaTeX_envs_menu_present": true,
   "autoclose": true,
   "autocomplete": true,
   "bibliofile": "biblio.bib",
   "cite_by": "apalike",
   "current_citInitial": 1,
   "eqLabelWithNumbers": true,
   "eqNumInitial": 1,
   "hotkeys": {
    "equation": "Ctrl-E",
    "itemize": "Ctrl-I"
   },
   "labels_anchors": false,
   "latex_user_defs": false,
   "report_style_numbering": true,
   "user_envs_cfg": false
  },
  "toc": {
   "base_numbering": 1,
   "nav_menu": {},
   "number_sections": true,
   "sideBar": true,
   "skip_h1_title": false,
   "title_cell": "Table of Contents",
   "title_sidebar": "Contents",
   "toc_cell": true,
   "toc_position": {},
   "toc_section_display": true,
   "toc_window_display": true
  }
 },
 "nbformat": 4,
 "nbformat_minor": 2
}
