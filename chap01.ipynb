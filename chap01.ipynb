{
 "cells": [
  {
   "cell_type": "markdown",
   "metadata": {
    "toc": true
   },
   "source": [
    "<h1>Table of Contents<span class=\"tocSkip\"></span></h1>\n",
    "<div class=\"toc\"><ul class=\"toc-item\"><li><span><a href=\"#Algorithm-1.2\" data-toc-modified-id=\"Algorithm-1.2-1\"><span class=\"toc-item-num\">1&nbsp;&nbsp;</span>Algorithm 1.2</a></span></li><li><span><a href=\"#Algorithm-1.3\" data-toc-modified-id=\"Algorithm-1.3-2\"><span class=\"toc-item-num\">2&nbsp;&nbsp;</span>Algorithm 1.3</a></span><ul class=\"toc-item\"><li><span><a href=\"#Check-dimensions\" data-toc-modified-id=\"Check-dimensions-2.1\"><span class=\"toc-item-num\">2.1&nbsp;&nbsp;</span>Check dimensions</a></span></li><li><span><a href=\"#Check-values\" data-toc-modified-id=\"Check-values-2.2\"><span class=\"toc-item-num\">2.2&nbsp;&nbsp;</span>Check values</a></span></li><li><span><a href=\"#Build-Atilde-and-DMD-Modes\" data-toc-modified-id=\"Build-Atilde-and-DMD-Modes-2.3\"><span class=\"toc-item-num\">2.3&nbsp;&nbsp;</span>Build Atilde and DMD Modes</a></span></li><li><span><a href=\"#DMD-Spectra\" data-toc-modified-id=\"DMD-Spectra-2.4\"><span class=\"toc-item-num\">2.4&nbsp;&nbsp;</span>DMD Spectra</a></span></li></ul></li><li><span><a href=\"#Algorithm-1.4\" data-toc-modified-id=\"Algorithm-1.4-3\"><span class=\"toc-item-num\">3&nbsp;&nbsp;</span>Algorithm 1.4</a></span></li><li><span><a href=\"#Algorithm-1.5\" data-toc-modified-id=\"Algorithm-1.5-4\"><span class=\"toc-item-num\">4&nbsp;&nbsp;</span>Algorithm 1.5</a></span></li></ul></div>"
   ]
  },
  {
   "cell_type": "markdown",
   "metadata": {},
   "source": [
    "## Algorithm 1.2"
   ]
  },
  {
   "cell_type": "code",
   "execution_count": 1,
   "metadata": {},
   "outputs": [],
   "source": [
    "import numpy as np\n",
    "\n",
    "from matplotlib import cm\n",
    "import matplotlib as mpl\n",
    "import matplotlib.pyplot as plt\n",
    "from mpl_toolkits.mplot3d import Axes3D\n",
    "\n",
    "from pylab import rcParams\n",
    "mpl.rcParams['mathtext.fontset'] = 'cm'\n",
    "mpl.rcParams['mathtext.rm'] = 'serif'\n",
    "mpl.rcParams['font.family'] = 'serif'\n",
    "# mpl.rcParams['font.serif'] = ['Helvetica']\n",
    "\n",
    "# plt.style.use('seaborn-white') # use sans-serif fonts\n",
    "\n",
    "rcParams['figure.figsize'] = 5, 5\n",
    "\n",
    "label_size = 10\n",
    "mpl.rcParams['xtick.labelsize'] = label_size\n",
    "mpl.rcParams['ytick.labelsize'] = label_size\n",
    "mpl.rcParams['axes.labelsize'] = 15\n",
    "\n",
    "mpl.rcParams['axes.spines.left'] = True   ## display axis spines\n",
    "mpl.rcParams['axes.spines.bottom'] = True\n",
    "mpl.rcParams['axes.spines.top'] = True\n",
    "mpl.rcParams['axes.spines.right'] = True\n",
    "mpl.rcParams['xtick.top'] = True\n",
    "mpl.rcParams['ytick.right'] = True\n",
    "mpl.rcParams['xtick.direction'] = 'out'\n",
    "mpl.rcParams['ytick.direction'] = 'out'\n",
    "mpl.rcParams['xtick.major.size'] = 6\n",
    "mpl.rcParams['ytick.major.size'] = 6\n",
    "mpl.rcParams['xtick.major.width'] = 1.0\n",
    "mpl.rcParams['ytick.major.width'] = 1.0\n"
   ]
  },
  {
   "cell_type": "code",
   "execution_count": 2,
   "metadata": {},
   "outputs": [],
   "source": [
    "## Define time and space discretizations\n",
    "\n",
    "xi = np.linspace(-10, 10, 400)\n",
    "ti = np.linspace(0, 4*np.pi, 200)\n",
    "dt = ti[1] - ti[0]\n",
    "[xgrid, tgrid] = np.meshgrid(xi,ti)\n",
    "\n",
    "\n",
    "## Create two spatio-temporal patterns\n",
    "f1 = (1/np.cosh(xgrid + 3))*(1*np.exp(1j*2.3*tgrid))\n",
    "f2 = ((1/np.cosh(xgrid))*np.tanh(xgrid))*(2*np.exp(1j*2.8*tgrid))\n",
    "\n",
    "## Combine signals and make data matrix\n",
    "f = f1 + f2\n",
    "X = f.T"
   ]
  },
  {
   "cell_type": "code",
   "execution_count": 3,
   "metadata": {},
   "outputs": [
    {
     "name": "stdout",
     "output_type": "stream",
     "text": [
      "Using matplotlib backend: MacOSX\n"
     ]
    }
   ],
   "source": [
    "%matplotlib\n",
    "\n",
    "alpha_val = 1.0\n",
    "\n",
    "fig = plt.figure(figsize = (8,8))\n",
    "ax_f1 = fig.add_subplot(221, projection='3d')\n",
    "ax_f2 = fig.add_subplot(222, projection='3d')\n",
    "ax_f = fig.add_subplot(223, projection='3d')\n",
    "\n",
    "ax_f1.plot_surface(xgrid.T, tgrid.T, np.real(f1.T), \\\n",
    "                   antialiased = False, cmap = 'gray_r', \\\n",
    "                   linewidth = 0, alpha = alpha_val)\n",
    "# ax_f1.view_init(30,-50)\n",
    "ax_f1.view_init(40,-120)\n",
    "\n",
    "ax_f2.plot_surface(xgrid.T, tgrid.T, np.real(f2.T), \\\n",
    "                   antialiased = False, cmap = 'gray_r', \\\n",
    "                   linewidth = 0, alpha = alpha_val)\n",
    "# ax_f2.view_init(30,-50)\n",
    "ax_f2.view_init(40,-120)\n",
    "\n",
    "ax_f.plot_surface(xgrid.T, tgrid.T, np.real(X), \\\n",
    "                  antialiased = False, cmap = 'gray_r', \\\n",
    "                  linewidth = 0, alpha = alpha_val)\n",
    "# ax_f.view_init(30,-50)\n",
    "ax_f.view_init(40,-120)\n",
    "\n",
    "# plt.savefig('test.pdf', bbox_inches = 'tight')\n",
    "plt.show()\n",
    "\n"
   ]
  },
  {
   "cell_type": "markdown",
   "metadata": {},
   "source": [
    "## Algorithm 1.3"
   ]
  },
  {
   "cell_type": "code",
   "execution_count": 4,
   "metadata": {},
   "outputs": [],
   "source": [
    "from numpy.linalg import svd, inv, eig\n",
    "\n",
    "## Create DMD data matrices\n",
    "X1 = X[:, 0:-1]\n",
    "X2 = X[:, 1:]\n",
    "\n",
    "## SVD and rank-2 truncation\n",
    "r = 2 # rank truncation\n",
    "[U, S, V] = svd(X1, full_matrices = False)\n",
    "S = np.diagflat(S) # because numpy returns S as 1D array\n",
    "Ur = U[:, 0:r] \n",
    "Sr = S[0:r, 0:r]\n",
    "V = np.matrix(V).H\n",
    "Vr = V[:, 0:r]\n"
   ]
  },
  {
   "cell_type": "markdown",
   "metadata": {},
   "source": [
    "### Check dimensions"
   ]
  },
  {
   "cell_type": "code",
   "execution_count": 5,
   "metadata": {},
   "outputs": [
    {
     "name": "stdout",
     "output_type": "stream",
     "text": [
      "(400, 199) (400, 199)\n",
      "(400, 199) (199, 199) (199, 199)\n",
      "(400, 2) (2, 2) (199, 2)\n"
     ]
    }
   ],
   "source": [
    "print(X1.shape, X2.shape)\n",
    "print(U.shape, S.shape, V.shape)\n",
    "print(Ur.shape, Sr.shape, Vr.shape)"
   ]
  },
  {
   "cell_type": "markdown",
   "metadata": {},
   "source": [
    "### Check values"
   ]
  },
  {
   "cell_type": "code",
   "execution_count": 7,
   "metadata": {},
   "outputs": [],
   "source": [
    "# print(Sr)\n",
    "# print(Vr)\n",
    "# print(Ur)\n"
   ]
  },
  {
   "cell_type": "markdown",
   "metadata": {},
   "source": [
    "### Build Atilde and DMD Modes "
   ]
  },
  {
   "cell_type": "code",
   "execution_count": 8,
   "metadata": {},
   "outputs": [],
   "source": [
    "\n",
    "Atilde = np.dot(np.matrix(Ur).H,np.dot(X2,np.linalg.solve(Sr.T,Vr.T).T))\n",
    "[D, W] = eig(Atilde)\n",
    "D = np.diagflat(D)\n",
    "\n",
    "Phi = np.dot(X2,np.dot(np.linalg.solve(Sr.T,Vr.T).T,W))  # DMD Modes"
   ]
  },
  {
   "cell_type": "code",
   "execution_count": 9,
   "metadata": {},
   "outputs": [
    {
     "name": "stdout",
     "output_type": "stream",
     "text": [
      "(2, 2) (2, 2) (2, 2) (400, 2)\n",
      "(2, 400)\n",
      "(400, 199)\n",
      "(199, 2)\n",
      "(400, 2)\n"
     ]
    }
   ],
   "source": [
    "print(Atilde.shape, W.shape, D.shape, Phi.shape)\n",
    "\n",
    "# print(Atilde)\n",
    "\n",
    "# print(D)\n",
    "\n",
    "# print(W)\n",
    "\n",
    "# print(Phi)\n",
    "\n",
    "print(np.matrix(Ur).H.shape)\n",
    "print(X2.shape)\n",
    "print(np.linalg.solve(Sr.T,Vr.T).T.shape)\n",
    "print(Phi.shape)\n"
   ]
  },
  {
   "cell_type": "markdown",
   "metadata": {},
   "source": [
    "### DMD Spectra"
   ]
  },
  {
   "cell_type": "code",
   "execution_count": 10,
   "metadata": {},
   "outputs": [],
   "source": [
    "\n",
    "lambda_vec = np.diag(D)\n",
    "omega = np.log(lambda_vec)/dt"
   ]
  },
  {
   "cell_type": "code",
   "execution_count": 11,
   "metadata": {},
   "outputs": [
    {
     "name": "stdout",
     "output_type": "stream",
     "text": [
      "[0.98440922+0.17589341j 0.98947128+0.14472937j] [-1.04389559e-15+2.8j -1.85703532e-14+2.3j]\n"
     ]
    }
   ],
   "source": [
    "\n",
    "print(lambda_vec, omega)\n"
   ]
  },
  {
   "cell_type": "code",
   "execution_count": 12,
   "metadata": {},
   "outputs": [],
   "source": [
    "import sys\n",
    "## Compute DMD Solution\n",
    "x1 = np.array(X[:, 0])\n",
    "b = np.linalg.lstsq(Phi,x1, rcond = None)[0]\n",
    "time_dynamics = np.zeros((r,np.size(ti)))\n",
    "\n",
    "# print(b)\n",
    "\n",
    "# b*np.exp(omega*ti[2])\n"
   ]
  },
  {
   "cell_type": "code",
   "execution_count": 13,
   "metadata": {},
   "outputs": [
    {
     "name": "stderr",
     "output_type": "stream",
     "text": [
      "/anaconda3/lib/python3.6/site-packages/ipykernel_launcher.py:2: ComplexWarning: Casting complex values to real discards the imaginary part\n",
      "  \n"
     ]
    }
   ],
   "source": [
    "for itr in range(np.size(ti)):\n",
    "    time_dynamics[:,itr] = b*np.exp(omega*ti[itr])\n",
    "    \n",
    "X_dmd = np.dot(Phi,time_dynamics)\n"
   ]
  },
  {
   "cell_type": "code",
   "execution_count": 16,
   "metadata": {},
   "outputs": [
    {
     "name": "stdout",
     "output_type": "stream",
     "text": [
      "(400, 200)\n",
      "(400, 2) (2, 200)\n",
      "(2,)\n"
     ]
    }
   ],
   "source": [
    "print(X_dmd.shape)\n",
    "\n",
    "# print(np.iscomplex(X_dmd))\n",
    "\n",
    "print(Phi.shape, time_dynamics.shape)\n",
    "\n",
    "print(b.shape)\n",
    "\n",
    "# print(X_dmd[:,0])"
   ]
  },
  {
   "cell_type": "code",
   "execution_count": 28,
   "metadata": {},
   "outputs": [],
   "source": [
    "from matplotlib.colors import LightSource\n",
    "\n",
    "plt.close('all')\n",
    "\n",
    "alpha_val = 1.0\n",
    "colormap = 'gray_r'\n",
    "\n",
    "fig = plt.figure(figsize = (10,10))\n",
    "ax_f1 = fig.add_subplot(221, projection='3d')\n",
    "ax_f2 = fig.add_subplot(222, projection='3d')\n",
    "ax_f = fig.add_subplot(223, projection='3d')\n",
    "\n",
    "ls = LightSource(270, 45)\n",
    "\n",
    "ax_f1.plot_surface(xgrid.T, tgrid.T, np.real(f1.T), \\\n",
    "                   antialiased = False, cmap = colormap, \\\n",
    "                   linewidth = 0, alpha = alpha_val)\n",
    "# ax_f1.view_init(30,-50)\n",
    "ax_f1.view_init(40,-120)\n",
    "ax_f1.set_xlabel(r'$x$')\n",
    "ax_f1.set_ylabel(r'$t$')\n",
    "ax_f1.set_zlabel(r'$f_1$')\n",
    "ax_f1.set_title(r'$f_1(x,t)$')\n",
    "\n",
    "\n",
    "ax_f2.plot_surface(xgrid.T, tgrid.T, np.real(f2.T), \\\n",
    "                   antialiased = False, cmap = colormap, \\\n",
    "                   linewidth = 0, alpha = alpha_val)\n",
    "# ax_f2.view_init(30,-50)\n",
    "ax_f2.view_init(40,-120)\n",
    "ax_f2.set_xlabel(r'$x$')\n",
    "ax_f2.set_ylabel(r'$t$')\n",
    "ax_f2.set_zlabel(r'$f_2$')\n",
    "ax_f2.set_title(r'$f_2(x,t)$')\n",
    "\n",
    "\n",
    "ax_f.plot_surface(xgrid.T, tgrid.T, np.real(X), \\\n",
    "                  antialiased = False, cmap = colormap, \\\n",
    "                  linewidth = 0, alpha = alpha_val)\n",
    "# ax_f.view_init(30,-50)\n",
    "ax_f.view_init(40,-120)\n",
    "ax_f.set_xlabel(r'$x$')\n",
    "ax_f.set_ylabel(r'$t$')\n",
    "ax_f.set_zlabel(r'$f$')\n",
    "ax_f.set_title(r'$f(x,t)$')\n",
    "\n",
    "\n",
    "ax_xdmd = fig.add_subplot(224, projection='3d')\n",
    "\n",
    "ax_xdmd.plot_surface(xgrid.T, tgrid.T, np.real(X_dmd), \\\n",
    "                  antialiased = False, cmap = colormap, \\\n",
    "                  linewidth = 0, alpha = alpha_val)\n",
    "ax_xdmd.view_init(40,-120)\n",
    "# ax_f.view_init(25,-135)\n",
    "ax_xdmd.set_xlabel(r'$x$')\n",
    "ax_xdmd.set_ylabel(r'$t$')\n",
    "ax_xdmd.set_zlabel(r'$f_{\\rm DMD}$',rotation = 90)\n",
    "ax_xdmd.set_title(r'$f_{\\rm DMD}(x,t)$')\n",
    "\n",
    "\n",
    "# plt.savefig('test.pdf', bbox_inches = 'tight')\n",
    "plt.show()\n",
    "\n",
    "\n",
    "\n"
   ]
  },
  {
   "cell_type": "code",
   "execution_count": 31,
   "metadata": {},
   "outputs": [],
   "source": [
    "\n",
    "from matplotlib.colors import LightSource\n",
    "\n",
    "plt.close('all')\n",
    "\n",
    "alpha_val = 1.0\n",
    "colormap = 'gray_r'\n",
    "\n",
    "fig = plt.figure(figsize = (10,10))\n",
    "ax_f1 = fig.add_subplot(221, projection='3d')\n",
    "ax_f2 = fig.add_subplot(222, projection='3d')\n",
    "ax_f = fig.add_subplot(223, projection='3d')\n",
    "ax_xdmd = fig.add_subplot(224, projection='3d')\n",
    "\n",
    "ls = LightSource(270, 45)\n",
    "\n",
    "ax_f1.plot_surface(xgrid.T, tgrid.T, np.real(f1.T), \\\n",
    "                   antialiased = False, cmap = colormap, \\\n",
    "                   linewidth = 0, alpha = alpha_val)\n",
    "# ax_f1.view_init(30,-50)\n",
    "ax_f1.view_init(90, 0)\n",
    "ax_f1.set_xlabel(r'$x$')\n",
    "ax_f1.set_ylabel(r'$t$')\n",
    "ax_f1.set_zlabel(r'$f_1$')\n",
    "ax_f1.set_title(r'$f_1(x,t)$')\n",
    "\n",
    "\n",
    "ax_f2.plot_surface(xgrid.T, tgrid.T, np.real(f2.T), \\\n",
    "                   antialiased = False, cmap = colormap, \\\n",
    "                   linewidth = 0, alpha = alpha_val)\n",
    "# ax_f2.view_init(30,-50)\n",
    "ax_f2.view_init(90, 0)\n",
    "ax_f2.set_xlabel(r'$x$')\n",
    "ax_f2.set_ylabel(r'$t$')\n",
    "ax_f2.set_zlabel(r'$f_2$')\n",
    "ax_f2.set_title(r'$f_2(x,t)$')\n",
    "\n",
    "\n",
    "ax_f.plot_surface(xgrid.T, tgrid.T, np.real(X), \\\n",
    "                  antialiased = False, cmap = colormap, \\\n",
    "                  linewidth = 0, alpha = alpha_val)\n",
    "# ax_f.view_init(30,-50)\n",
    "ax_f.view_init(90, 0)\n",
    "ax_f.set_xlabel(r'$x$')\n",
    "ax_f.set_ylabel(r'$t$')\n",
    "ax_f.set_zlabel(r'$f$')\n",
    "ax_f.set_title(r'$f(x,t)$')\n",
    "\n",
    "\n",
    "\n",
    "ax_xdmd.plot_surface(xgrid.T, tgrid.T, np.real(X_dmd), \\\n",
    "                  antialiased = False, cmap = colormap, \\\n",
    "                  linewidth = 0, alpha = alpha_val)\n",
    "ax_xdmd.view_init(90, 0)\n",
    "# ax_f.view_init(25,-135)\n",
    "ax_xdmd.set_xlabel(r'$x$')\n",
    "ax_xdmd.set_ylabel(r'$t$')\n",
    "ax_xdmd.set_zlabel(r'$f_{\\rm DMD}$',rotation = 90)\n",
    "ax_xdmd.set_title(r'$f_{\\rm DMD}(x,t)$')\n",
    "\n",
    "\n",
    "# plt.savefig('test.pdf', bbox_inches = 'tight')\n",
    "plt.show()\n",
    "\n",
    "\n"
   ]
  },
  {
   "cell_type": "markdown",
   "metadata": {},
   "source": [
    "## Algorithm 1.4"
   ]
  },
  {
   "cell_type": "code",
   "execution_count": null,
   "metadata": {},
   "outputs": [],
   "source": [
    "\n",
    "\n",
    "[U, S, V] = svd(X, full_matrices = False)\n",
    "S = np.diagflat(S) # because numpy returns S as 1D array);\n",
    "pc1 = U[:, 0] # first PCA mode\n",
    "pc2 = U[:, 1] # second PCA mode\n",
    "time_pc1 = V[:, 0] # temporal evolution of pc1\n",
    "time_pc2 = V[:, 1] # temporal evolution of pc2\n",
    "\n"
   ]
  },
  {
   "cell_type": "markdown",
   "metadata": {},
   "source": [
    "## Algorithm 1.5"
   ]
  },
  {
   "cell_type": "code",
   "execution_count": null,
   "metadata": {},
   "outputs": [],
   "source": [
    "# Requires a fast ICA software package\n",
    "from sklearn.decomposition import FastICA, PCA\n",
    "\n",
    "IC = FastICA(n_components=10)\n",
    "S_ = IC.fit_transform(X)  # Reconstruct signals\n",
    "ICt = IC.mixing_  # Get estimated mixing matrix\n",
    "\n",
    "ic1 = IC[0,:] # first ICA mode\n",
    "ic2 = IC[1, :] # second ICA mode\n",
    "time_ic1 = ICt[:,0] # temporal evolution of ic1\n",
    "time_ic2 = ICt[:,1] # temporal evolution of ic2\n",
    "\n",
    "\n",
    "# [IC, ICt, ~] = fastica(real(X)');\n"
   ]
  },
  {
   "cell_type": "code",
   "execution_count": null,
   "metadata": {},
   "outputs": [],
   "source": []
  }
 ],
 "metadata": {
  "kernelspec": {
   "display_name": "Python 3",
   "language": "python",
   "name": "python3"
  },
  "language_info": {
   "codemirror_mode": {
    "name": "ipython",
    "version": 3
   },
   "file_extension": ".py",
   "mimetype": "text/x-python",
   "name": "python",
   "nbconvert_exporter": "python",
   "pygments_lexer": "ipython3",
   "version": "3.6.8"
  },
  "latex_envs": {
   "LaTeX_envs_menu_present": true,
   "autoclose": true,
   "autocomplete": true,
   "bibliofile": "biblio.bib",
   "cite_by": "apalike",
   "current_citInitial": 1,
   "eqLabelWithNumbers": true,
   "eqNumInitial": 1,
   "hotkeys": {
    "equation": "Ctrl-E",
    "itemize": "Ctrl-I"
   },
   "labels_anchors": false,
   "latex_user_defs": false,
   "report_style_numbering": true,
   "user_envs_cfg": false
  },
  "toc": {
   "base_numbering": 1,
   "nav_menu": {},
   "number_sections": true,
   "sideBar": true,
   "skip_h1_title": false,
   "title_cell": "Table of Contents",
   "title_sidebar": "Contents",
   "toc_cell": true,
   "toc_position": {
    "height": "calc(100% - 180px)",
    "left": "10px",
    "top": "150px",
    "width": "233px"
   },
   "toc_section_display": true,
   "toc_window_display": true
  }
 },
 "nbformat": 4,
 "nbformat_minor": 2
}
