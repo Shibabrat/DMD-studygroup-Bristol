{
 "cells": [
  {
   "cell_type": "markdown",
   "metadata": {
    "toc": true
   },
   "source": [
    "<h1>Table of Contents<span class=\"tocSkip\"></span></h1>\n",
    "<div class=\"toc\"><ul class=\"toc-item\"><li><span><a href=\"#Algorithm-1.2\" data-toc-modified-id=\"Algorithm-1.2-1\"><span class=\"toc-item-num\">1&nbsp;&nbsp;</span>Algorithm 1.2</a></span></li><li><span><a href=\"#Algorithm-1.3\" data-toc-modified-id=\"Algorithm-1.3-2\"><span class=\"toc-item-num\">2&nbsp;&nbsp;</span>Algorithm 1.3</a></span></li><li><span><a href=\"#Algorithm-1.4\" data-toc-modified-id=\"Algorithm-1.4-3\"><span class=\"toc-item-num\">3&nbsp;&nbsp;</span>Algorithm 1.4</a></span></li><li><span><a href=\"#Algorithm-1.5\" data-toc-modified-id=\"Algorithm-1.5-4\"><span class=\"toc-item-num\">4&nbsp;&nbsp;</span>Algorithm 1.5</a></span></li></ul></div>"
   ]
  },
  {
   "cell_type": "markdown",
   "metadata": {},
   "source": [
    "## Algorithm 1.2"
   ]
  },
  {
   "cell_type": "code",
   "execution_count": 3,
   "metadata": {},
   "outputs": [],
   "source": [
    "import numpy as np\n",
    "\n",
    "from matplotlib import cm\n",
    "import matplotlib as mpl\n",
    "import matplotlib.pyplot as plt\n",
    "from mpl_toolkits.mplot3d import Axes3D\n",
    "\n",
    "from pylab import rcParams\n",
    "mpl.rcParams['mathtext.fontset'] = 'cm'\n",
    "mpl.rcParams['mathtext.rm'] = 'serif'\n",
    "mpl.rcParams['font.family'] = 'serif'\n",
    "# mpl.rcParams['font.serif'] = ['Helvetica']\n",
    "\n",
    "# plt.style.use('seaborn-white') # use sans-serif fonts\n",
    "\n",
    "rcParams['figure.figsize'] = 5, 5\n",
    "\n",
    "label_size = 10\n",
    "mpl.rcParams['xtick.labelsize'] = label_size\n",
    "mpl.rcParams['ytick.labelsize'] = label_size\n",
    "mpl.rcParams['axes.labelsize'] = 15\n",
    "\n",
    "mpl.rcParams['axes.spines.left'] = True   ## display axis spines\n",
    "mpl.rcParams['axes.spines.bottom'] = True\n",
    "mpl.rcParams['axes.spines.top'] = True\n",
    "mpl.rcParams['axes.spines.right'] = True\n",
    "mpl.rcParams['xtick.top'] = True\n",
    "mpl.rcParams['ytick.right'] = True\n",
    "mpl.rcParams['xtick.direction'] = 'out'\n",
    "mpl.rcParams['ytick.direction'] = 'out'\n",
    "mpl.rcParams['xtick.major.size'] = 6\n",
    "mpl.rcParams['ytick.major.size'] = 6\n",
    "mpl.rcParams['xtick.major.width'] = 1.0\n",
    "mpl.rcParams['ytick.major.width'] = 1.0\n"
   ]
  },
  {
   "cell_type": "code",
   "execution_count": 4,
   "metadata": {},
   "outputs": [],
   "source": [
    "## Define time and space discretizations\n",
    "\n",
    "xi = np.linspace(-10, 10, 400)\n",
    "ti = np.linspace(0, 4*np.pi, 200)\n",
    "dt = ti[1] - ti[0]\n",
    "[xgrid, tgrid] = np.meshgrid(xi,ti)\n",
    "\n",
    "\n",
    "## Create two spatio-temporal patterns\n",
    "f1 = (1/np.cosh(xgrid + 3))*(1*np.exp(1j*2.3*tgrid))\n",
    "f2 = ((1/np.cosh(xgrid))*np.tanh(xgrid))*(2*np.exp(1j*2.8*tgrid))\n",
    "\n",
    "## Combine signals and make data matrix\n",
    "f = f1 + f2\n",
    "X = f.T"
   ]
  },
  {
   "cell_type": "code",
   "execution_count": 165,
   "metadata": {},
   "outputs": [
    {
     "name": "stdout",
     "output_type": "stream",
     "text": [
      "Using matplotlib backend: MacOSX\n"
     ]
    }
   ],
   "source": [
    "%matplotlib\n",
    "\n",
    "fig = plt.figure(figsize = (8,8))\n",
    "ax_f1 = fig.add_subplot(221, projection='3d')\n",
    "ax_f2 = fig.add_subplot(222, projection='3d')\n",
    "ax_f = fig.add_subplot(223, projection='3d')\n",
    "\n",
    "ax_f1.plot_surface(xgrid.T, tgrid.T, np.real(f1.T), \\\n",
    "                   antialiased = True, cmap = 'gray_r', \\\n",
    "                   linewidth = 0, alpha = 0.6)\n",
    "ax_f1.view_init(30,-50)\n",
    "\n",
    "ax_f2.plot_surface(xgrid.T, tgrid.T, np.real(f2.T), \\\n",
    "                   antialiased = True, cmap = 'gray_r', \\\n",
    "                   linewidth = 0, alpha = 0.6)\n",
    "ax_f2.view_init(30,-50)\n",
    "\n",
    "ax_f.plot_surface(xgrid.T, tgrid.T, np.real(X), \\\n",
    "                  antialiased = True, cmap = 'gray_r', \\\n",
    "                  linewidth = 0, alpha = 0.6)\n",
    "ax_f.view_init(30,-50)\n",
    "\n",
    "# plt.savefig('test.pdf', bbox_inches = 'tight')\n",
    "plt.show()\n",
    "\n"
   ]
  },
  {
   "cell_type": "markdown",
   "metadata": {},
   "source": [
    "## Algorithm 1.3"
   ]
  },
  {
   "cell_type": "code",
   "execution_count": 5,
   "metadata": {},
   "outputs": [],
   "source": [
    "from numpy.linalg import svd, inv, eig\n",
    "\n",
    "## Create DMD data matrices\n",
    "X1 = X[:, 0:-1]\n",
    "X2 = X[:, 1:]\n",
    "\n",
    "## SVD and rank-2 truncation\n",
    "r = 2 # rank truncation\n",
    "[U, S, V] = svd(X1, full_matrices = False)\n",
    "S = np.diagflat(S) # because numpy returns S as 1D array\n",
    "Ur = U[:, 0:r] \n",
    "Sr = S[0:r, 0:r]\n",
    "Vr = V[:, 0:r]\n"
   ]
  },
  {
   "cell_type": "code",
   "execution_count": 123,
   "metadata": {},
   "outputs": [
    {
     "data": {
      "text/plain": [
       "((400, 2), (2, 2), (199, 2))"
      ]
     },
     "execution_count": 123,
     "metadata": {},
     "output_type": "execute_result"
    }
   ],
   "source": [
    "U.shape, S.shape, V.shape\n",
    "Ur.shape, Sr.shape, Vr.shape"
   ]
  },
  {
   "cell_type": "code",
   "execution_count": 124,
   "metadata": {},
   "outputs": [],
   "source": [
    "## Build Atilde and DMD Modes\n",
    "Atilde = np.dot(Ur.T,np.dot(X2,np.dot(Vr,inv(Sr))))\n",
    "[W, D] = eig(Atilde)\n",
    "W = np.diagflat(W)\n",
    "Phi = np.dot(X2,np.dot(np.dot(Vr,inv(Sr)),W));  # DMD Modes"
   ]
  },
  {
   "cell_type": "code",
   "execution_count": 125,
   "metadata": {},
   "outputs": [
    {
     "data": {
      "text/plain": [
       "((2, 2), (2, 2), (2, 2), (400, 2))"
      ]
     },
     "execution_count": 125,
     "metadata": {},
     "output_type": "execute_result"
    }
   ],
   "source": [
    "Atilde.shape, W.shape, D.shape, Phi.shape"
   ]
  },
  {
   "cell_type": "code",
   "execution_count": 126,
   "metadata": {},
   "outputs": [],
   "source": [
    "## DMD Spectra\n",
    "lambda_vec = np.diag(D)\n",
    "omega = np.log(lambda_vec)/dt"
   ]
  },
  {
   "cell_type": "code",
   "execution_count": 159,
   "metadata": {},
   "outputs": [
    {
     "name": "stderr",
     "output_type": "stream",
     "text": [
      "/anaconda3/lib/python3.6/site-packages/ipykernel_launcher.py:8: ComplexWarning: Casting complex values to real discards the imaginary part\n",
      "  \n"
     ]
    }
   ],
   "source": [
    "import sys\n",
    "## Compute DMD Solution\n",
    "x1 = np.array(X[:, 0])\n",
    "b = np.dot(np.linalg.pinv(Phi),x1)\n",
    "time_dynamics = np.zeros((r,np.size(ti)))\n",
    "\n",
    "for itr in range(np.size(ti)):\n",
    "    time_dynamics[:,itr] = b*np.exp(omega*ti[itr])\n",
    "    \n",
    "X_dmd = np.dot(Phi,time_dynamics)"
   ]
  },
  {
   "cell_type": "code",
   "execution_count": 160,
   "metadata": {},
   "outputs": [
    {
     "data": {
      "text/plain": [
       "(400, 200)"
      ]
     },
     "execution_count": 160,
     "metadata": {},
     "output_type": "execute_result"
    }
   ],
   "source": [
    "X_dmd.shape\n",
    "# np.iscomplex(X_dmd)"
   ]
  },
  {
   "cell_type": "code",
   "execution_count": 168,
   "metadata": {},
   "outputs": [
    {
     "data": {
      "text/plain": [
       "array([-1.09599859+0.j, -1.05913917+0.j])"
      ]
     },
     "execution_count": 168,
     "metadata": {},
     "output_type": "execute_result"
    }
   ],
   "source": [
    "omega\n",
    "# something fishy going on earlier."
   ]
  },
  {
   "cell_type": "code",
   "execution_count": 166,
   "metadata": {},
   "outputs": [],
   "source": [
    "\n",
    "ax_dmd_f = fig.add_subplot(224, projection = '3d')\n",
    "\n",
    "ax_dmd_f.plot_surface(xgrid.T, tgrid.T, np.real(X_dmd), \\\n",
    "                      antialiased = True, cmap = 'gray_r', \\\n",
    "                      linewidth = 0, alpha = 0.6)\n",
    "ax_dmd_f.view_init(30,-50)\n",
    "plt.show()\n"
   ]
  },
  {
   "cell_type": "markdown",
   "metadata": {},
   "source": [
    "## Algorithm 1.4"
   ]
  },
  {
   "cell_type": "code",
   "execution_count": 144,
   "metadata": {},
   "outputs": [],
   "source": [
    "[U, S, V] = svd(X, full_matrices = False)\n",
    "S = np.diagflat(S) # because numpy returns S as 1D array);\n",
    "pc1 = U[:, 0] # first PCA mode\n",
    "pc2 = U[:, 1] # second PCA mode\n",
    "time_pc1 = V[:, 0] # temporal evolution of pc1\n",
    "time_pc2 = V[:, 1] # temporal evolution of pc2"
   ]
  },
  {
   "cell_type": "markdown",
   "metadata": {},
   "source": [
    "## Algorithm 1.5"
   ]
  },
  {
   "cell_type": "code",
   "execution_count": 150,
   "metadata": {},
   "outputs": [
    {
     "name": "stderr",
     "output_type": "stream",
     "text": [
      "/anaconda3/lib/python3.6/site-packages/sklearn/utils/validation.py:433: ComplexWarning: Casting complex values to real discards the imaginary part\n",
      "  array = np.array(array, dtype=dtype, order=order, copy=copy)\n",
      "/anaconda3/lib/python3.6/site-packages/sklearn/decomposition/fastica_.py:118: UserWarning: FastICA did not converge. Consider increasing tolerance or the maximum number of iterations.\n",
      "  warnings.warn('FastICA did not converge. Consider increasing '\n"
     ]
    },
    {
     "ename": "TypeError",
     "evalue": "'FastICA' object is not subscriptable",
     "output_type": "error",
     "traceback": [
      "\u001b[0;31m---------------------------------------------------------------------------\u001b[0m",
      "\u001b[0;31mTypeError\u001b[0m                                 Traceback (most recent call last)",
      "\u001b[0;32m<ipython-input-150-954c707daa5c>\u001b[0m in \u001b[0;36m<module>\u001b[0;34m()\u001b[0m\n\u001b[1;32m      6\u001b[0m \u001b[0mICt\u001b[0m \u001b[0;34m=\u001b[0m \u001b[0mIC\u001b[0m\u001b[0;34m.\u001b[0m\u001b[0mmixing_\u001b[0m  \u001b[0;31m# Get estimated mixing matrix\u001b[0m\u001b[0;34m\u001b[0m\u001b[0;34m\u001b[0m\u001b[0m\n\u001b[1;32m      7\u001b[0m \u001b[0;34m\u001b[0m\u001b[0m\n\u001b[0;32m----> 8\u001b[0;31m \u001b[0mic1\u001b[0m \u001b[0;34m=\u001b[0m \u001b[0mIC\u001b[0m\u001b[0;34m[\u001b[0m\u001b[0;36m0\u001b[0m\u001b[0;34m,\u001b[0m\u001b[0;34m:\u001b[0m\u001b[0;34m]\u001b[0m \u001b[0;31m# first ICA mode\u001b[0m\u001b[0;34m\u001b[0m\u001b[0;34m\u001b[0m\u001b[0m\n\u001b[0m\u001b[1;32m      9\u001b[0m \u001b[0mic2\u001b[0m \u001b[0;34m=\u001b[0m \u001b[0mIC\u001b[0m\u001b[0;34m[\u001b[0m\u001b[0;36m1\u001b[0m\u001b[0;34m,\u001b[0m \u001b[0;34m:\u001b[0m\u001b[0;34m]\u001b[0m \u001b[0;31m# second ICA mode\u001b[0m\u001b[0;34m\u001b[0m\u001b[0;34m\u001b[0m\u001b[0m\n\u001b[1;32m     10\u001b[0m \u001b[0mtime_ic1\u001b[0m \u001b[0;34m=\u001b[0m \u001b[0mICt\u001b[0m\u001b[0;34m[\u001b[0m\u001b[0;34m:\u001b[0m\u001b[0;34m,\u001b[0m\u001b[0;36m0\u001b[0m\u001b[0;34m]\u001b[0m \u001b[0;31m# temporal evolution of ic1\u001b[0m\u001b[0;34m\u001b[0m\u001b[0;34m\u001b[0m\u001b[0m\n",
      "\u001b[0;31mTypeError\u001b[0m: 'FastICA' object is not subscriptable"
     ]
    }
   ],
   "source": [
    "# Requires a fast ICA software package\n",
    "from sklearn.decomposition import FastICA, PCA\n",
    "\n",
    "IC = FastICA(n_components=10)\n",
    "S_ = IC.fit_transform(X)  # Reconstruct signals\n",
    "ICt = IC.mixing_  # Get estimated mixing matrix\n",
    "\n",
    "ic1 = IC[0,:] # first ICA mode\n",
    "ic2 = IC[1, :] # second ICA mode\n",
    "time_ic1 = ICt[:,0] # temporal evolution of ic1\n",
    "time_ic2 = ICt[:,1] # temporal evolution of ic2\n",
    "\n",
    "\n",
    "# [IC, ICt, ~] = fastica(real(X)');\n"
   ]
  },
  {
   "cell_type": "code",
   "execution_count": null,
   "metadata": {},
   "outputs": [],
   "source": []
  }
 ],
 "metadata": {
  "kernelspec": {
   "display_name": "Python 3",
   "language": "python",
   "name": "python3"
  },
  "language_info": {
   "codemirror_mode": {
    "name": "ipython",
    "version": 3
   },
   "file_extension": ".py",
   "mimetype": "text/x-python",
   "name": "python",
   "nbconvert_exporter": "python",
   "pygments_lexer": "ipython3",
   "version": "3.6.8"
  },
  "latex_envs": {
   "LaTeX_envs_menu_present": true,
   "autoclose": true,
   "autocomplete": true,
   "bibliofile": "biblio.bib",
   "cite_by": "apalike",
   "current_citInitial": 1,
   "eqLabelWithNumbers": true,
   "eqNumInitial": 1,
   "hotkeys": {
    "equation": "Ctrl-E",
    "itemize": "Ctrl-I"
   },
   "labels_anchors": false,
   "latex_user_defs": false,
   "report_style_numbering": true,
   "user_envs_cfg": false
  },
  "toc": {
   "base_numbering": 1,
   "nav_menu": {},
   "number_sections": true,
   "sideBar": true,
   "skip_h1_title": false,
   "title_cell": "Table of Contents",
   "title_sidebar": "Contents",
   "toc_cell": true,
   "toc_position": {
    "height": "calc(100% - 180px)",
    "left": "10px",
    "top": "150px",
    "width": "233px"
   },
   "toc_section_display": true,
   "toc_window_display": true
  }
 },
 "nbformat": 4,
 "nbformat_minor": 2
}
